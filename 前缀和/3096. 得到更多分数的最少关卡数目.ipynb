{
 "cells": [
  {
   "cell_type": "markdown",
   "metadata": {},
   "source": [
    "给你一个长度为 n 的二进制数组 possible 。\n",
    "\n",
    "Alice 和 Bob 正在玩一个有 n 个关卡的游戏，游戏中有一些关卡是 困难 模式，其他的关卡是 简单 模式。如果 possible[i] == 0 ，那么第 i 个关卡是 困难 模式。一个玩家通过一个简单模式的关卡可以获得 1 分，通过困难模式的关卡将失去 1 分。\n",
    "\n",
    "游戏的一开始，Alice 将从第 0 级开始 按顺序 完成一些关卡，然后 Bob 会完成剩下的所有关卡。\n",
    "\n",
    "假设两名玩家都采取最优策略，目的是 最大化 自己的得分，Alice 想知道自己 最少 需要完成多少个关卡，才能获得比 Bob 更多的分数。\n",
    "\n",
    "请你返回 Alice 获得比 Bob 更多的分数所需要完成的 最少 关卡数目，如果 无法 达成，那么返回 -1 。\n",
    "\n",
    "注意，每个玩家都至少需要完成 1 个关卡。\n",
    "\n",
    " \n",
    "\n",
    "示例 1：\n",
    "\n",
    "输入：possible = [1,0,1,0]\n",
    "\n",
    "输出：1\n",
    "\n",
    "解释：\n",
    "\n",
    "我们来看一下 Alice 可以完成的关卡数目：\n",
    "\n",
    "如果 Alice 只完成关卡 0 ，Bob 完成剩下的所有关卡，那么 Alice 获得 1 分，Bob 获得 -1 + 1 - 1 = -1 分。\n",
    "如果 Alice 完成到关卡 1 ，Bob 完成剩下的所有关卡，那么 Alice 获得 1 - 1 = 0 分，Bob 获得 1 - 1 = 0 分。\n",
    "如果 Alice 完成到关卡 2 ，Bob 完成剩下的所有关卡，那么 Alice 获得 1 - 1 + 1 = 1 分，Bob 获得 -1 分。\n",
    "Alice 需要完成至少一个关卡获得更多的分数。"
   ]
  },
  {
   "cell_type": "markdown",
   "metadata": {},
   "source": [
    "把 0 视作 −1，找一个最短前缀，其元素和大于剩余元素和。"
   ]
  },
  {
   "cell_type": "code",
   "execution_count": null,
   "metadata": {},
   "outputs": [],
   "source": [
    "\n",
    "from typing import List\n",
    "\n",
    "\n",
    "class Solution:\n",
    "    def minimumLevels(self, possible: List[int]) -> int:\n",
    "        s = sum(possible) * 2 - len(possible)\n",
    "        pre = 0\n",
    "        for i, x in enumerate(possible[:-1]):\n",
    "            pre += 2 if x else -2\n",
    "            if pre > s: \n",
    "                return i + 1\n",
    "        return -1"
   ]
  }
 ],
 "metadata": {
  "language_info": {
   "name": "python"
  }
 },
 "nbformat": 4,
 "nbformat_minor": 2
}
