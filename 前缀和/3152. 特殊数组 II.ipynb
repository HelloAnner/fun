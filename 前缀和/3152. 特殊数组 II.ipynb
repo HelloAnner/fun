{
 "cells": [
  {
   "cell_type": "markdown",
   "metadata": {},
   "source": [
    "如果数组的每一对相邻元素都是两个奇偶性不同的数字，则该数组被认为是一个 特殊数组 。\n",
    "\n",
    "周洋哥有一个整数数组 nums 和一个二维整数矩阵 queries，对于 queries[i] = [fromi, toi]，请你帮助周洋哥检查子数组 nums[fromi..toi] 是不是一个 特殊数组 。\n",
    "\n",
    "返回布尔数组 answer，如果 nums[fromi..toi] 是特殊数组，则 answer[i] 为 true ，否则，answer[i] 为 false 。\n",
    "\n",
    "示例 1：\n",
    "输入：nums = [3,4,1,2,6], queries = [[0,4]]\n",
    "输出：[false]\n",
    "解释：\n",
    "子数组是 [3,4,1,2,6]。2 和 6 都是偶数。\n"
   ]
  },
  {
   "cell_type": "markdown",
   "metadata": {},
   "source": [
    "如果子数组存在一对相邻元素，它们的奇偶性相同，那么这个子数组就不是特殊数组。\n",
    "\n",
    "怎么快速知道是否有奇偶性相同的相邻元素？\n",
    "\n",
    "考虑这样一个问题：给你一个只包含 0 和 1 的数组，如何快速判断一个子数组是否包含 1？\n",
    "\n",
    "解答：如果这个子数组的元素和大于 0，那么子数组就包含 1。如何快速计算子数组元素和？这可以用 前缀和 解决。\n"
   ]
  },
  {
   "cell_type": "code",
   "execution_count": null,
   "metadata": {},
   "outputs": [],
   "source": [
    "\n",
    "from itertools import accumulate, pairwise\n",
    "from typing import List\n",
    "\n",
    "\n",
    "class Solution:\n",
    "    def isArraySpecial(self, nums: List[int], queries: List[List[int]]) -> List[bool]:\n",
    "        # 累加\n",
    "        s = list(accumulate((x % 2 == y % 2 for x, y in pairwise(nums)), initial=0))\n",
    "        return [s[from_] == s[to] for from_, to in queries]"
   ]
  }
 ],
 "metadata": {
  "language_info": {
   "name": "python"
  }
 },
 "nbformat": 4,
 "nbformat_minor": 2
}
